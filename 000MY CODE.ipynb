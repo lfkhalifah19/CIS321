{
  "cells": [
    {
      "cell_type": "code",
      "execution_count": 1,
      "metadata": {
        "colab": {
          "base_uri": "https://localhost:8080/"
        },
        "id": "JJFQv7-eFc6G",
        "outputId": "d0c79e8a-a0ba-4c15-8239-535f2b1dd73f"
      },
      "outputs": [
        {
          "output_type": "stream",
          "name": "stdout",
          "text": [
            "Mounted at /content/drive\n"
          ]
        }
      ],
      "source": [
        "import pandas as pd\n",
        "from google.colab import drive\n",
        "drive.mount('/content/drive')\n",
        "data = pd.read_csv('/content/drive/My Drive/diabetes+dataset.csv')\n",
        "train_data = pd.read_csv('/content/drive/My Drive/train.csv')\n",
        "test_data = pd.read_csv('/content/drive/My Drive/test.csv')\n",
        "\n",
        "\n"
      ]
    },
    {
      "cell_type": "code",
      "source": [
        "# Split train data into features and target\n",
        "X = train_data.drop(['id', 'Response'], axis=1)  # Drop 'id' and 'Response'\n",
        "y = train_data['Response']\n",
        "\n",
        "# Extract test data ids and features\n",
        "test_ids = test_data['id']\n",
        "X_test = test_data.drop(['id'], axis=1)\n",
        "\n",
        "# Display datasets\n",
        "print(train_data.head())\n",
        "print(test_data.head())"
      ],
      "metadata": {
        "colab": {
          "base_uri": "https://localhost:8080/"
        },
        "id": "_P9TIEC2sG_o",
        "outputId": "e4db961f-bce6-48fe-8693-af9a7e709d39"
      },
      "execution_count": 2,
      "outputs": [
        {
          "output_type": "stream",
          "name": "stdout",
          "text": [
            "   id  Gender  Age  Driving_License  Region_Code  Previously_Insured  \\\n",
            "0   0       0   30                1         28.0                   1   \n",
            "1   1       0   26                1          6.0                   1   \n",
            "2   2       0   40                1          0.0                   0   \n",
            "3   3       0   25                1          8.0                   1   \n",
            "4   4       1   26                1         28.0                   1   \n",
            "\n",
            "   Vehicle_Age  Vehicle_Damage  Annual_Premium  Policy_Sales_Channel  Vintage  \\\n",
            "0            2               0         60954.0                 152.0      127   \n",
            "1            2               0         24532.0                 152.0      216   \n",
            "2            1               1          2630.0                  47.0      220   \n",
            "3            2               0         44259.0                 152.0      223   \n",
            "4            2               0         33615.0                 152.0      194   \n",
            "\n",
            "   Response  \n",
            "0         0  \n",
            "1         0  \n",
            "2         0  \n",
            "3         0  \n",
            "4         0  \n",
            "   id  Gender  Age  Driving_License  Region_Code  Previously_Insured  \\\n",
            "0   0       0   51                1         10.0                   0   \n",
            "1   1       0   31                1         46.0                   0   \n",
            "2   2       0   28                1         30.0                   1   \n",
            "3   3       0   52                1         28.0                   1   \n",
            "4   4       0   22                1         46.0                   0   \n",
            "\n",
            "   Vehicle_Age  Vehicle_Damage  Annual_Premium  Policy_Sales_Channel  Vintage  \n",
            "0            1               1         28568.0                  26.0       69  \n",
            "1            1               1         36387.0                 124.0      184  \n",
            "2            2               0         26153.0                 152.0      201  \n",
            "3            1               0         70363.0                  61.0      233  \n",
            "4            2               0          2630.0                 152.0      155  \n"
          ]
        }
      ]
    },
    {
      "cell_type": "code",
      "source": [
        "from sklearn.tree import DecisionTreeClassifier\n",
        "from sklearn.ensemble import RandomForestClassifier\n",
        "from sklearn.neighbors import KNeighborsClassifier\n",
        "\n",
        "# Define models\n",
        "models = [\n",
        "    {\"name\": \"Decision Tree Gini\", \"model\": DecisionTreeClassifier(criterion='gini', random_state=42)},\n",
        "    {\"name\": \"Decision Tree Entropy\", \"model\": DecisionTreeClassifier(criterion='entropy', random_state=42)},\n",
        "    {\"name\": \"Random Forest 10 Estimators\", \"model\": RandomForestClassifier(n_estimators=10, random_state=42)},\n",
        "    {\"name\": \"Random Forest 50 Estimators\", \"model\": RandomForestClassifier(n_estimators=50, random_state=42)},\n",
        "    {\"name\": \"KNN K=5\", \"model\": KNeighborsClassifier(n_neighbors=5)},\n",
        "    {\"name\": \"KNN K=10\", \"model\": KNeighborsClassifier(n_neighbors=10)},\n",
        "]\n"
      ],
      "metadata": {
        "id": "9HqcUhoGsMU8"
      },
      "execution_count": 3,
      "outputs": []
    },
    {
      "cell_type": "code",
      "source": [
        "from sklearn.model_selection import train_test_split\n",
        "from sklearn.metrics import accuracy_score\n",
        "import random\n",
        "\n",
        "# Results storage\n",
        "results = []\n",
        "full_summary = \"\"\n",
        "\n",
        "# Perform 20 tests for each model\n",
        "for test_num in range(1, 11):  # 10 tests\n",
        "    print(f\"Running Test #{test_num}\")\n",
        "\n",
        "    # Vary the train-test split size randomly between 0.2 and 0.4\n",
        "    test_size = random.uniform(0.2, 0.4)\n",
        "\n",
        "    # Vary the random state for train-test split\n",
        "    random_state = random.randint(1, 100)\n",
        "\n",
        "    # Split the dataset\n",
        "    X_train, X_val, y_train, y_val = train_test_split(\n",
        "        X, y, test_size=test_size, random_state=random_state)\n",
        "\n",
        "    # Concise summary for this test\n",
        "    concise_summary = f\"Test #{test_num}\\nModel\\tParameters\\tValidation Accuracy\\n\"\n",
        "\n",
        "    # Loop through models with varying parameters\n",
        "    for m in models:\n",
        "        # Modify model parameters for more variety\n",
        "        if m[\"name\"].startswith(\"Random Forest\"):\n",
        "            n_estimators = random.choice([10, 50, 100])\n",
        "            model = m[\"model\"].set_params(n_estimators=n_estimators)\n",
        "        elif m[\"name\"].startswith(\"Decision Tree\"):\n",
        "            criterion = random.choice([\"gini\", \"entropy\"])\n",
        "            model = m[\"model\"].set_params(criterion=criterion)\n",
        "        elif m[\"name\"].startswith(\"KNN\"):\n",
        "            n_neighbors = random.choice([5, 10, 15])\n",
        "            model = m[\"model\"].set_params(n_neighbors=n_neighbors)\n",
        "        else:\n",
        "            model = m[\"model\"]\n",
        "\n",
        "        # Train the model\n",
        "        model.fit(X_train, y_train)\n",
        "\n",
        "        # Validate the model\n",
        "        y_val_pred = model.predict(X_val)\n",
        "        accuracy = accuracy_score(y_val, y_val_pred)\n",
        "\n",
        "        # Predict on test data\n",
        "        predictions = model.predict(X_test)\n",
        "\n",
        "        # Save predictions for submission\n",
        "        submission_path = f'/content/drive/MyDrive/tests/{test_num}_{m[\"name\"].replace(\" \", \"_\")}_Test.csv'\n",
        "        submission = pd.DataFrame({'id': test_ids, 'Response': predictions})\n",
        "        submission.to_csv(submission_path, index=False)\n",
        "\n",
        "        # Append concise summary\n",
        "        concise_summary += f\"{m['name']}\\t{model.get_params()}\\t{accuracy}\\n\"\n",
        "\n",
        "        # Store full details in summary\n",
        "        full_summary += (\n",
        "            f\"Test #{test_num} Full Summary\\n\"\n",
        "            f\"Model: {m['name']}\\n\"\n",
        "            f\"Parameters: {model.get_params()}\\n\"\n",
        "            f\"Validation Accuracy: {accuracy:.2f}\\n\"\n",
        "            f\"Test Size: {round(test_size, 2)}\\n\"\n",
        "            f\"Random State: {random_state}\\n\"\n",
        "            f\"Submission File: {submission_path}\\n\\n\"\n",
        "        )\n",
        "\n",
        "        # Store results\n",
        "        results.append({\n",
        "            \"Test Number\": test_num,\n",
        "            \"Model\": m[\"name\"],\n",
        "            \"Parameters\": model.get_params(),\n",
        "            \"Validation Accuracy\": accuracy,\n",
        "            \"Test Size\": round(test_size, 2),\n",
        "            \"Random State\": random_state,\n",
        "            \"Submission File\": submission_path\n",
        "        })\n",
        "\n",
        "    # Save concise summary to a text file\n",
        "    with open(f\"/content/drive/MyDrive/tests/Test_{test_num}_Summary.txt\", \"w\") as f:\n",
        "        f.write(concise_summary)\n",
        "\n",
        "# Save full summary to a text file\n",
        "with open(\"/content/drive/MyDrive/tests/Full_Summary.txt\", \"w\") as f:\n",
        "    f.write(full_summary)\n",
        "\n",
        "\n",
        "\n"
      ],
      "metadata": {
        "colab": {
          "base_uri": "https://localhost:8080/"
        },
        "id": "MsK4tYFosUBn",
        "outputId": "b02d49a7-bfa0-44df-9b07-4de92d4b78e7"
      },
      "execution_count": 7,
      "outputs": [
        {
          "output_type": "stream",
          "name": "stdout",
          "text": [
            "Running Test #1\n",
            "Running Test #2\n",
            "Running Test #3\n",
            "Running Test #4\n",
            "Running Test #5\n",
            "Running Test #6\n",
            "Running Test #7\n",
            "Running Test #8\n",
            "Running Test #9\n",
            "Running Test #10\n"
          ]
        }
      ]
    }
  ],
  "metadata": {
    "colab": {
      "provenance": []
    },
    "kernelspec": {
      "display_name": "Python 3",
      "name": "python3"
    },
    "language_info": {
      "name": "python"
    }
  },
  "nbformat": 4,
  "nbformat_minor": 0
}